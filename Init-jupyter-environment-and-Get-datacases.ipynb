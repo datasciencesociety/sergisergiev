{
 "cells": [
  {
   "cell_type": "code",
   "execution_count": 5,
   "metadata": {},
   "outputs": [
    {
     "name": "stdout",
     "output_type": "stream",
     "text": [
      "Requirement already up-to-date: pip in /opt/conda/lib/python3.6/site-packages (19.0.3)\r\n"
     ]
    }
   ],
   "source": [
    "!pip install --upgrade pip"
   ]
  },
  {
   "cell_type": "markdown",
   "metadata": {},
   "source": [
    "**Install some Data Science (not only) modules**\n",
    "-----------------------\n",
    "**You can install any module/package you want with pip or conda**"
   ]
  },
  {
   "cell_type": "code",
   "execution_count": 6,
   "metadata": {
    "scrolled": false
   },
   "outputs": [
    {
     "name": "stdout",
     "output_type": "stream",
     "text": [
      "Requirement already satisfied: s3fs in /opt/conda/lib/python3.6/site-packages (0.2.0)\n",
      "Requirement already satisfied: botocore in /opt/conda/lib/python3.6/site-packages (from s3fs) (1.12.130)\n",
      "Requirement already satisfied: boto3 in /opt/conda/lib/python3.6/site-packages (from s3fs) (1.9.130)\n",
      "Requirement already satisfied: six in /opt/conda/lib/python3.6/site-packages (from s3fs) (1.11.0)\n",
      "Requirement already satisfied: urllib3<1.25,>=1.20; python_version >= \"3.4\" in /opt/conda/lib/python3.6/site-packages (from botocore->s3fs) (1.22)\n",
      "Requirement already satisfied: python-dateutil<3.0.0,>=2.1; python_version >= \"2.7\" in /opt/conda/lib/python3.6/site-packages (from botocore->s3fs) (2.8.0)\n",
      "Requirement already satisfied: docutils>=0.10 in /opt/conda/lib/python3.6/site-packages (from botocore->s3fs) (0.14)\n",
      "Requirement already satisfied: jmespath<1.0.0,>=0.7.1 in /opt/conda/lib/python3.6/site-packages (from botocore->s3fs) (0.9.4)\n",
      "Requirement already satisfied: s3transfer<0.3.0,>=0.2.0 in /opt/conda/lib/python3.6/site-packages (from boto3->s3fs) (0.2.0)\n",
      "Requirement already satisfied: pandas in /opt/conda/lib/python3.6/site-packages (0.24.2)\n",
      "Requirement already satisfied: pytz>=2011k in /opt/conda/lib/python3.6/site-packages (from pandas) (2019.1)\n",
      "Requirement already satisfied: python-dateutil>=2.5.0 in /opt/conda/lib/python3.6/site-packages (from pandas) (2.8.0)\n",
      "Requirement already satisfied: numpy>=1.12.0 in /opt/conda/lib/python3.6/site-packages (from pandas) (1.16.2)\n",
      "Requirement already satisfied: six>=1.5 in /opt/conda/lib/python3.6/site-packages (from python-dateutil>=2.5.0->pandas) (1.11.0)\n",
      "Requirement already satisfied: numpy in /opt/conda/lib/python3.6/site-packages (1.16.2)\n",
      "Requirement already satisfied: scipy in /opt/conda/lib/python3.6/site-packages (1.2.1)\n",
      "Requirement already satisfied: numpy>=1.8.2 in /opt/conda/lib/python3.6/site-packages (from scipy) (1.16.2)\n",
      "Requirement already satisfied: matplotlib in /opt/conda/lib/python3.6/site-packages (3.0.3)\n",
      "Requirement already satisfied: kiwisolver>=1.0.1 in /opt/conda/lib/python3.6/site-packages (from matplotlib) (1.0.1)\n",
      "Requirement already satisfied: pyparsing!=2.0.4,!=2.1.2,!=2.1.6,>=2.0.1 in /opt/conda/lib/python3.6/site-packages (from matplotlib) (2.4.0)\n",
      "Requirement already satisfied: numpy>=1.10.0 in /opt/conda/lib/python3.6/site-packages (from matplotlib) (1.16.2)\n",
      "Requirement already satisfied: cycler>=0.10 in /opt/conda/lib/python3.6/site-packages (from matplotlib) (0.10.0)\n",
      "Requirement already satisfied: python-dateutil>=2.1 in /opt/conda/lib/python3.6/site-packages (from matplotlib) (2.8.0)\n",
      "Requirement already satisfied: setuptools in /opt/conda/lib/python3.6/site-packages (from kiwisolver>=1.0.1->matplotlib) (39.0.1)\n",
      "Requirement already satisfied: six in /opt/conda/lib/python3.6/site-packages (from cycler>=0.10->matplotlib) (1.11.0)\n",
      "Requirement already satisfied: seaborn in /opt/conda/lib/python3.6/site-packages (0.9.0)\n",
      "Requirement already satisfied: numpy>=1.9.3 in /opt/conda/lib/python3.6/site-packages (from seaborn) (1.16.2)\n",
      "Requirement already satisfied: pandas>=0.15.2 in /opt/conda/lib/python3.6/site-packages (from seaborn) (0.24.2)\n",
      "Requirement already satisfied: matplotlib>=1.4.3 in /opt/conda/lib/python3.6/site-packages (from seaborn) (3.0.3)\n",
      "Requirement already satisfied: scipy>=0.14.0 in /opt/conda/lib/python3.6/site-packages (from seaborn) (1.2.1)\n",
      "Requirement already satisfied: python-dateutil>=2.5.0 in /opt/conda/lib/python3.6/site-packages (from pandas>=0.15.2->seaborn) (2.8.0)\n",
      "Requirement already satisfied: pytz>=2011k in /opt/conda/lib/python3.6/site-packages (from pandas>=0.15.2->seaborn) (2019.1)\n",
      "Requirement already satisfied: cycler>=0.10 in /opt/conda/lib/python3.6/site-packages (from matplotlib>=1.4.3->seaborn) (0.10.0)\n",
      "Requirement already satisfied: pyparsing!=2.0.4,!=2.1.2,!=2.1.6,>=2.0.1 in /opt/conda/lib/python3.6/site-packages (from matplotlib>=1.4.3->seaborn) (2.4.0)\n",
      "Requirement already satisfied: kiwisolver>=1.0.1 in /opt/conda/lib/python3.6/site-packages (from matplotlib>=1.4.3->seaborn) (1.0.1)\n",
      "Requirement already satisfied: six>=1.5 in /opt/conda/lib/python3.6/site-packages (from python-dateutil>=2.5.0->pandas>=0.15.2->seaborn) (1.11.0)\n",
      "Requirement already satisfied: setuptools in /opt/conda/lib/python3.6/site-packages (from kiwisolver>=1.0.1->matplotlib>=1.4.3->seaborn) (39.0.1)\n",
      "Requirement already satisfied: bokeh in /opt/conda/lib/python3.6/site-packages (1.1.0)\n",
      "Requirement already satisfied: six>=1.5.2 in /opt/conda/lib/python3.6/site-packages (from bokeh) (1.11.0)\n",
      "Requirement already satisfied: PyYAML>=3.10 in /opt/conda/lib/python3.6/site-packages (from bokeh) (5.1)\n",
      "Requirement already satisfied: python-dateutil>=2.1 in /opt/conda/lib/python3.6/site-packages (from bokeh) (2.8.0)\n",
      "Requirement already satisfied: Jinja2>=2.7 in /opt/conda/lib/python3.6/site-packages (from bokeh) (2.10)\n",
      "Requirement already satisfied: numpy>=1.7.1 in /opt/conda/lib/python3.6/site-packages (from bokeh) (1.16.2)\n",
      "Requirement already satisfied: pillow>=4.0 in /opt/conda/lib/python3.6/site-packages (from bokeh) (6.0.0)\n",
      "Requirement already satisfied: packaging>=16.8 in /opt/conda/lib/python3.6/site-packages (from bokeh) (19.0)\n",
      "Requirement already satisfied: tornado>=4.3 in /opt/conda/lib/python3.6/site-packages (from bokeh) (5.0.2)\n",
      "Requirement already satisfied: MarkupSafe>=0.23 in /opt/conda/lib/python3.6/site-packages (from Jinja2>=2.7->bokeh) (1.0)\n",
      "Requirement already satisfied: pyparsing>=2.0.2 in /opt/conda/lib/python3.6/site-packages (from packaging>=16.8->bokeh) (2.4.0)\n",
      "Requirement already satisfied: plotly in /opt/conda/lib/python3.6/site-packages (3.7.1)\n",
      "Requirement already satisfied: retrying>=1.3.3 in /opt/conda/lib/python3.6/site-packages (from plotly) (1.3.3)\n",
      "Requirement already satisfied: pytz in /opt/conda/lib/python3.6/site-packages (from plotly) (2019.1)\n",
      "Requirement already satisfied: decorator>=4.0.6 in /opt/conda/lib/python3.6/site-packages (from plotly) (4.3.0)\n",
      "Requirement already satisfied: six in /opt/conda/lib/python3.6/site-packages (from plotly) (1.11.0)\n",
      "Requirement already satisfied: requests in /opt/conda/lib/python3.6/site-packages (from plotly) (2.18.4)\n",
      "Requirement already satisfied: nbformat>=4.2 in /opt/conda/lib/python3.6/site-packages (from plotly) (4.4.0)\n",
      "Requirement already satisfied: chardet<3.1.0,>=3.0.2 in /opt/conda/lib/python3.6/site-packages (from requests->plotly) (3.0.4)\n",
      "Requirement already satisfied: idna<2.7,>=2.5 in /opt/conda/lib/python3.6/site-packages (from requests->plotly) (2.6)\n",
      "Requirement already satisfied: urllib3<1.23,>=1.21.1 in /opt/conda/lib/python3.6/site-packages (from requests->plotly) (1.22)\n",
      "Requirement already satisfied: certifi>=2017.4.17 in /opt/conda/lib/python3.6/site-packages (from requests->plotly) (2019.3.9)\n",
      "Requirement already satisfied: ipython_genutils in /opt/conda/lib/python3.6/site-packages (from nbformat>=4.2->plotly) (0.2.0)\n",
      "Requirement already satisfied: traitlets>=4.1 in /opt/conda/lib/python3.6/site-packages (from nbformat>=4.2->plotly) (4.3.2)\n",
      "Requirement already satisfied: jsonschema!=2.5.0,>=2.4 in /opt/conda/lib/python3.6/site-packages (from nbformat>=4.2->plotly) (3.0.1)\n",
      "Requirement already satisfied: jupyter_core in /opt/conda/lib/python3.6/site-packages (from nbformat>=4.2->plotly) (4.4.0)\n",
      "Requirement already satisfied: attrs>=17.4.0 in /opt/conda/lib/python3.6/site-packages (from jsonschema!=2.5.0,>=2.4->nbformat>=4.2->plotly) (19.1.0)\n",
      "Requirement already satisfied: pyrsistent>=0.14.0 in /opt/conda/lib/python3.6/site-packages (from jsonschema!=2.5.0,>=2.4->nbformat>=4.2->plotly) (0.14.11)\n",
      "Requirement already satisfied: setuptools in /opt/conda/lib/python3.6/site-packages (from jsonschema!=2.5.0,>=2.4->nbformat>=4.2->plotly) (39.0.1)\n",
      "Requirement already satisfied: scikit-learn in /opt/conda/lib/python3.6/site-packages (0.20.3)\n",
      "Requirement already satisfied: numpy>=1.8.2 in /opt/conda/lib/python3.6/site-packages (from scikit-learn) (1.16.2)\n",
      "Requirement already satisfied: scipy>=0.13.3 in /opt/conda/lib/python3.6/site-packages (from scikit-learn) (1.2.1)\n",
      "Collecting theano\n",
      "Requirement already satisfied: numpy>=1.9.1 in /opt/conda/lib/python3.6/site-packages (from theano) (1.16.2)\n",
      "Requirement already satisfied: scipy>=0.14 in /opt/conda/lib/python3.6/site-packages (from theano) (1.2.1)\n",
      "Requirement already satisfied: six>=1.9.0 in /opt/conda/lib/python3.6/site-packages (from theano) (1.11.0)\n"
     ]
    },
    {
     "name": "stdout",
     "output_type": "stream",
     "text": [
      "Installing collected packages: theano\n",
      "\u001b[31mCould not install packages due to an EnvironmentError: [Errno 13] Permission denied: '/opt/conda/lib/python3.6/site-packages/theano'\n",
      "Consider using the `--user` option or check the permissions.\n",
      "\u001b[0m\n",
      "Requirement already satisfied: tensorflow in /opt/conda/lib/python3.6/site-packages (1.13.1)\n",
      "Requirement already satisfied: keras-applications>=1.0.6 in /opt/conda/lib/python3.6/site-packages (from tensorflow) (1.0.7)\n",
      "Requirement already satisfied: absl-py>=0.1.6 in /opt/conda/lib/python3.6/site-packages (from tensorflow) (0.7.1)\n",
      "Requirement already satisfied: astor>=0.6.0 in /opt/conda/lib/python3.6/site-packages (from tensorflow) (0.7.1)\n",
      "Requirement already satisfied: protobuf>=3.6.1 in /opt/conda/lib/python3.6/site-packages (from tensorflow) (3.7.1)\n",
      "Requirement already satisfied: termcolor>=1.1.0 in /opt/conda/lib/python3.6/site-packages (from tensorflow) (1.1.0)\n",
      "Requirement already satisfied: grpcio>=1.8.6 in /opt/conda/lib/python3.6/site-packages (from tensorflow) (1.19.0)\n",
      "Requirement already satisfied: keras-preprocessing>=1.0.5 in /opt/conda/lib/python3.6/site-packages (from tensorflow) (1.0.9)\n",
      "Requirement already satisfied: wheel>=0.26 in /opt/conda/lib/python3.6/site-packages (from tensorflow) (0.31.0)\n",
      "Requirement already satisfied: numpy>=1.13.3 in /opt/conda/lib/python3.6/site-packages (from tensorflow) (1.16.2)\n",
      "Requirement already satisfied: tensorboard<1.14.0,>=1.13.0 in /opt/conda/lib/python3.6/site-packages (from tensorflow) (1.13.1)\n",
      "Requirement already satisfied: six>=1.10.0 in /opt/conda/lib/python3.6/site-packages (from tensorflow) (1.11.0)\n",
      "Requirement already satisfied: tensorflow-estimator<1.14.0rc0,>=1.13.0 in /opt/conda/lib/python3.6/site-packages (from tensorflow) (1.13.0)\n",
      "Requirement already satisfied: gast>=0.2.0 in /opt/conda/lib/python3.6/site-packages (from tensorflow) (0.2.2)\n",
      "Requirement already satisfied: h5py in /opt/conda/lib/python3.6/site-packages (from keras-applications>=1.0.6->tensorflow) (2.9.0)\n",
      "Requirement already satisfied: setuptools in /opt/conda/lib/python3.6/site-packages (from protobuf>=3.6.1->tensorflow) (39.0.1)\n",
      "Requirement already satisfied: werkzeug>=0.11.15 in /opt/conda/lib/python3.6/site-packages (from tensorboard<1.14.0,>=1.13.0->tensorflow) (0.15.2)\n",
      "Requirement already satisfied: markdown>=2.6.8 in /opt/conda/lib/python3.6/site-packages (from tensorboard<1.14.0,>=1.13.0->tensorflow) (3.1)\n",
      "Requirement already satisfied: mock>=2.0.0 in /opt/conda/lib/python3.6/site-packages (from tensorflow-estimator<1.14.0rc0,>=1.13.0->tensorflow) (2.0.0)\n",
      "Requirement already satisfied: pbr>=0.11 in /opt/conda/lib/python3.6/site-packages (from mock>=2.0.0->tensorflow-estimator<1.14.0rc0,>=1.13.0->tensorflow) (5.1.3)\n",
      "Requirement already satisfied: keras in /opt/conda/lib/python3.6/site-packages (2.2.4)\n",
      "Requirement already satisfied: keras-preprocessing>=1.0.5 in /opt/conda/lib/python3.6/site-packages (from keras) (1.0.9)\n",
      "Requirement already satisfied: keras-applications>=1.0.6 in /opt/conda/lib/python3.6/site-packages (from keras) (1.0.7)\n",
      "Requirement already satisfied: scipy>=0.14 in /opt/conda/lib/python3.6/site-packages (from keras) (1.2.1)\n",
      "Requirement already satisfied: numpy>=1.9.1 in /opt/conda/lib/python3.6/site-packages (from keras) (1.16.2)\n",
      "Requirement already satisfied: pyyaml in /opt/conda/lib/python3.6/site-packages (from keras) (5.1)\n",
      "Requirement already satisfied: h5py in /opt/conda/lib/python3.6/site-packages (from keras) (2.9.0)\n",
      "Requirement already satisfied: six>=1.9.0 in /opt/conda/lib/python3.6/site-packages (from keras) (1.11.0)\n",
      "Collecting nltk\n",
      "Collecting singledispatch (from nltk)\n",
      "  Using cached https://files.pythonhosted.org/packages/c5/10/369f50bcd4621b263927b0a1519987a04383d4a98fb10438042ad410cf88/singledispatch-3.4.0.3-py2.py3-none-any.whl\n",
      "Requirement already satisfied: six in /opt/conda/lib/python3.6/site-packages (from nltk) (1.11.0)\n",
      "Installing collected packages: singledispatch, nltk\n",
      "\u001b[31mCould not install packages due to an EnvironmentError: [Errno 13] Permission denied: '/opt/conda/lib/python3.6/site-packages/singledispatch_helpers.py'\n",
      "Consider using the `--user` option or check the permissions.\n",
      "\u001b[0m\n",
      "Collecting gensim\n",
      "  Using cached https://files.pythonhosted.org/packages/43/f1/d25dfdf1d28222124b920108b89f3f7acc2dad506014990c10fb34f7104b/gensim-3.7.2-cp36-cp36m-manylinux1_x86_64.whl\n",
      "Requirement already satisfied: scipy>=0.18.1 in /opt/conda/lib/python3.6/site-packages (from gensim) (1.2.1)\n",
      "Collecting smart-open>=1.7.0 (from gensim)\n",
      "Requirement already satisfied: numpy>=1.11.3 in /opt/conda/lib/python3.6/site-packages (from gensim) (1.16.2)\n",
      "Requirement already satisfied: six>=1.5.0 in /opt/conda/lib/python3.6/site-packages (from gensim) (1.11.0)\n",
      "Requirement already satisfied: boto3 in /opt/conda/lib/python3.6/site-packages (from smart-open>=1.7.0->gensim) (1.9.130)\n",
      "Collecting bz2file (from smart-open>=1.7.0->gensim)\n",
      "Requirement already satisfied: requests in /opt/conda/lib/python3.6/site-packages (from smart-open>=1.7.0->gensim) (2.18.4)\n",
      "Collecting boto>=2.32 (from smart-open>=1.7.0->gensim)\n",
      "  Using cached https://files.pythonhosted.org/packages/23/10/c0b78c27298029e4454a472a1919bde20cb182dab1662cec7f2ca1dcc523/boto-2.49.0-py2.py3-none-any.whl\n",
      "Requirement already satisfied: jmespath<1.0.0,>=0.7.1 in /opt/conda/lib/python3.6/site-packages (from boto3->smart-open>=1.7.0->gensim) (0.9.4)\n",
      "Requirement already satisfied: s3transfer<0.3.0,>=0.2.0 in /opt/conda/lib/python3.6/site-packages (from boto3->smart-open>=1.7.0->gensim) (0.2.0)\n",
      "Requirement already satisfied: botocore<1.13.0,>=1.12.130 in /opt/conda/lib/python3.6/site-packages (from boto3->smart-open>=1.7.0->gensim) (1.12.130)\n",
      "Requirement already satisfied: chardet<3.1.0,>=3.0.2 in /opt/conda/lib/python3.6/site-packages (from requests->smart-open>=1.7.0->gensim) (3.0.4)\n",
      "Requirement already satisfied: idna<2.7,>=2.5 in /opt/conda/lib/python3.6/site-packages (from requests->smart-open>=1.7.0->gensim) (2.6)\n",
      "Requirement already satisfied: urllib3<1.23,>=1.21.1 in /opt/conda/lib/python3.6/site-packages (from requests->smart-open>=1.7.0->gensim) (1.22)\n",
      "Requirement already satisfied: certifi>=2017.4.17 in /opt/conda/lib/python3.6/site-packages (from requests->smart-open>=1.7.0->gensim) (2019.3.9)\n",
      "Requirement already satisfied: python-dateutil<3.0.0,>=2.1; python_version >= \"2.7\" in /opt/conda/lib/python3.6/site-packages (from botocore<1.13.0,>=1.12.130->boto3->smart-open>=1.7.0->gensim) (2.8.0)\n",
      "Requirement already satisfied: docutils>=0.10 in /opt/conda/lib/python3.6/site-packages (from botocore<1.13.0,>=1.12.130->boto3->smart-open>=1.7.0->gensim) (0.14)\n",
      "Installing collected packages: bz2file, boto, smart-open, gensim\n",
      "\u001b[31mCould not install packages due to an EnvironmentError: [Errno 13] Permission denied: '/opt/conda/lib/python3.6/site-packages/bz2file.py'\n",
      "Consider using the `--user` option or check the permissions.\n",
      "\u001b[0m\n"
     ]
    }
   ],
   "source": [
    "!pip install s3fs\n",
    "!pip install pandas\n",
    "!pip install numpy\n",
    "!pip install scipy\n",
    "!pip install matplotlib\n",
    "!pip install seaborn\n",
    "!pip install bokeh\n",
    "!pip install plotly\n",
    "!pip install scikit-learn\n",
    "!pip install theano\n",
    "!pip install tensorflow\n",
    "!pip install keras\n",
    "!pip install nltk\n",
    "!pip install gensim"
   ]
  },
  {
   "cell_type": "code",
   "execution_count": 10,
   "metadata": {},
   "outputs": [],
   "source": [
    "import pandas\n",
    "import s3fs\n",
    "import scipy\n",
    "import matplotlib\n",
    "import seaborn\n",
    "import bokeh\n",
    "import plotly\n",
    "import sklearn\n",
    "#import theano\n",
    "import tensorflow\n",
    "import keras\n",
    "#import nltk\n",
    "#import gensim"
   ]
  },
  {
   "cell_type": "code",
   "execution_count": 11,
   "metadata": {},
   "outputs": [],
   "source": [
    "fs = s3fs.S3FileSystem(anon=True)"
   ]
  },
  {
   "cell_type": "markdown",
   "metadata": {},
   "source": [
    "**LIST THE AVAILABLE DATATHON CASES**"
   ]
  },
  {
   "cell_type": "code",
   "execution_count": 17,
   "metadata": {
    "scrolled": true
   },
   "outputs": [
    {
     "data": {
      "text/plain": [
       "['datacases/gd-2019/kaufland_cv/Kaufland_DataThon 2019_04_participants.zip',\n",
       " 'datacases/gd-2019/kaufland_cv/ground_truth',\n",
       " 'datacases/gd-2019/kaufland_cv/ground_truth_xml',\n",
       " 'datacases/gd-2019/kaufland_cv/working',\n",
       " 'datacases/gd-2019/kaufland_cv/working_xml']"
      ]
     },
     "execution_count": 17,
     "metadata": {},
     "output_type": "execute_result"
    }
   ],
   "source": [
    "#fs.ls('datacases/datathon-2018-2/')\n",
    "fs.ls('datacases/gd-2019/kaufland_cv')"
   ]
  },
  {
   "cell_type": "markdown",
   "metadata": {},
   "source": [
    "**LIST THE AVAILABLE FILES IN THE CASE FOLDERS**\n",
    "replace \"CASE-FOLDER\" with the corresponding one from the list above"
   ]
  },
  {
   "cell_type": "code",
   "execution_count": 19,
   "metadata": {
    "scrolled": true
   },
   "outputs": [
    {
     "data": {
      "text/plain": [
       "['datacases/gd-2019/kaufland_cv/ground_truth/IMG_20190305_160228.jpg',\n",
       " 'datacases/gd-2019/kaufland_cv/ground_truth/IMG_20190305_160229.jpg',\n",
       " 'datacases/gd-2019/kaufland_cv/ground_truth/IMG_20190305_160236.jpg',\n",
       " 'datacases/gd-2019/kaufland_cv/ground_truth/IMG_20190305_160240.jpg',\n",
       " 'datacases/gd-2019/kaufland_cv/ground_truth/IMG_20190305_160244.jpg',\n",
       " 'datacases/gd-2019/kaufland_cv/ground_truth/IMG_20190305_160248.jpg',\n",
       " 'datacases/gd-2019/kaufland_cv/ground_truth/IMG_20190305_160251.jpg',\n",
       " 'datacases/gd-2019/kaufland_cv/ground_truth/IMG_20190305_160254.jpg',\n",
       " 'datacases/gd-2019/kaufland_cv/ground_truth/IMG_20190305_160257.jpg',\n",
       " 'datacases/gd-2019/kaufland_cv/ground_truth/IMG_20190305_160300.jpg',\n",
       " 'datacases/gd-2019/kaufland_cv/ground_truth/IMG_20190305_160302.jpg',\n",
       " 'datacases/gd-2019/kaufland_cv/ground_truth/IMG_20190305_160308.jpg',\n",
       " 'datacases/gd-2019/kaufland_cv/ground_truth/IMG_20190305_160310.jpg',\n",
       " 'datacases/gd-2019/kaufland_cv/ground_truth/IMG_20190305_160314.jpg',\n",
       " 'datacases/gd-2019/kaufland_cv/ground_truth/IMG_20190305_160317.jpg',\n",
       " 'datacases/gd-2019/kaufland_cv/ground_truth/IMG_20190305_160320.jpg',\n",
       " 'datacases/gd-2019/kaufland_cv/ground_truth/IMG_20190305_160324.jpg',\n",
       " 'datacases/gd-2019/kaufland_cv/ground_truth/IMG_20190305_160328.jpg',\n",
       " 'datacases/gd-2019/kaufland_cv/ground_truth/IMG_20190305_160334.jpg',\n",
       " 'datacases/gd-2019/kaufland_cv/ground_truth/IMG_20190305_160349.jpg',\n",
       " 'datacases/gd-2019/kaufland_cv/ground_truth/IMG_20190305_160350.jpg',\n",
       " 'datacases/gd-2019/kaufland_cv/ground_truth/IMG_20190305_160353.jpg',\n",
       " 'datacases/gd-2019/kaufland_cv/ground_truth/IMG_20190305_160355.jpg',\n",
       " 'datacases/gd-2019/kaufland_cv/ground_truth/IMG_20190305_160400.jpg',\n",
       " 'datacases/gd-2019/kaufland_cv/ground_truth/IMG_20190305_160402.jpg',\n",
       " 'datacases/gd-2019/kaufland_cv/ground_truth/IMG_20190305_160406.jpg',\n",
       " 'datacases/gd-2019/kaufland_cv/ground_truth/IMG_20190305_160410.jpg',\n",
       " 'datacases/gd-2019/kaufland_cv/ground_truth/IMG_20190305_160412.jpg',\n",
       " 'datacases/gd-2019/kaufland_cv/ground_truth/IMG_20190305_160416.jpg',\n",
       " 'datacases/gd-2019/kaufland_cv/ground_truth/IMG_20190305_160420.jpg',\n",
       " 'datacases/gd-2019/kaufland_cv/ground_truth/IMG_20190305_160428.jpg',\n",
       " 'datacases/gd-2019/kaufland_cv/ground_truth/IMG_20190305_160431.jpg',\n",
       " 'datacases/gd-2019/kaufland_cv/ground_truth/IMG_20190305_160435.jpg',\n",
       " 'datacases/gd-2019/kaufland_cv/ground_truth/IMG_20190305_160439.jpg',\n",
       " 'datacases/gd-2019/kaufland_cv/ground_truth/IMG_20190305_160442.jpg',\n",
       " 'datacases/gd-2019/kaufland_cv/ground_truth/IMG_20190305_160447.jpg',\n",
       " 'datacases/gd-2019/kaufland_cv/ground_truth/IMG_20190305_160450.jpg',\n",
       " 'datacases/gd-2019/kaufland_cv/ground_truth/IMG_20190305_160457.jpg',\n",
       " 'datacases/gd-2019/kaufland_cv/ground_truth/IMG_20190305_160459.jpg',\n",
       " 'datacases/gd-2019/kaufland_cv/ground_truth/IMG_20190305_160504.jpg',\n",
       " 'datacases/gd-2019/kaufland_cv/ground_truth/IMG_20190305_160506.jpg',\n",
       " 'datacases/gd-2019/kaufland_cv/ground_truth/IMG_20190305_160510.jpg',\n",
       " 'datacases/gd-2019/kaufland_cv/ground_truth/IMG_20190305_160514.jpg',\n",
       " 'datacases/gd-2019/kaufland_cv/ground_truth/IMG_20190305_160519.jpg',\n",
       " 'datacases/gd-2019/kaufland_cv/ground_truth/IMG_20190305_160526.jpg',\n",
       " 'datacases/gd-2019/kaufland_cv/ground_truth/IMG_20190305_160532.jpg',\n",
       " 'datacases/gd-2019/kaufland_cv/ground_truth/IMG_20190305_160535.jpg',\n",
       " 'datacases/gd-2019/kaufland_cv/ground_truth/IMG_20190305_160541.jpg',\n",
       " 'datacases/gd-2019/kaufland_cv/ground_truth/IMG_20190305_160545.jpg',\n",
       " 'datacases/gd-2019/kaufland_cv/ground_truth/IMG_20190305_160551.jpg',\n",
       " 'datacases/gd-2019/kaufland_cv/ground_truth/IMG_20190305_160557.jpg',\n",
       " 'datacases/gd-2019/kaufland_cv/ground_truth/IMG_20190305_160559.jpg',\n",
       " 'datacases/gd-2019/kaufland_cv/ground_truth/IMG_20190305_160609.jpg',\n",
       " 'datacases/gd-2019/kaufland_cv/ground_truth/IMG_20190305_160644.jpg',\n",
       " 'datacases/gd-2019/kaufland_cv/ground_truth/IMG_20190305_160647.jpg',\n",
       " 'datacases/gd-2019/kaufland_cv/ground_truth/IMG_20190305_160650.jpg',\n",
       " 'datacases/gd-2019/kaufland_cv/ground_truth/IMG_20190305_160653.jpg',\n",
       " 'datacases/gd-2019/kaufland_cv/ground_truth/IMG_20190305_160656.jpg',\n",
       " 'datacases/gd-2019/kaufland_cv/ground_truth/IMG_20190305_160703.jpg',\n",
       " 'datacases/gd-2019/kaufland_cv/ground_truth/IMG_20190305_160710.jpg',\n",
       " 'datacases/gd-2019/kaufland_cv/ground_truth/IMG_20190305_160716.jpg',\n",
       " 'datacases/gd-2019/kaufland_cv/ground_truth/IMG_20190305_160803.jpg',\n",
       " 'datacases/gd-2019/kaufland_cv/ground_truth/IMG_20190305_160807.jpg',\n",
       " 'datacases/gd-2019/kaufland_cv/ground_truth/IMG_20190305_160811.jpg',\n",
       " 'datacases/gd-2019/kaufland_cv/ground_truth/IMG_20190305_160816.jpg',\n",
       " 'datacases/gd-2019/kaufland_cv/ground_truth/IMG_20190305_160820.jpg',\n",
       " 'datacases/gd-2019/kaufland_cv/ground_truth/IMG_20190305_160824.jpg',\n",
       " 'datacases/gd-2019/kaufland_cv/ground_truth/IMG_20190305_160825.jpg',\n",
       " 'datacases/gd-2019/kaufland_cv/ground_truth/IMG_20190305_160830.jpg',\n",
       " 'datacases/gd-2019/kaufland_cv/ground_truth/IMG_20190305_160833.jpg',\n",
       " 'datacases/gd-2019/kaufland_cv/ground_truth/IMG_20190305_160838.jpg',\n",
       " 'datacases/gd-2019/kaufland_cv/ground_truth/IMG_20190305_160846.jpg',\n",
       " 'datacases/gd-2019/kaufland_cv/ground_truth/IMG_20190305_160853.jpg',\n",
       " 'datacases/gd-2019/kaufland_cv/ground_truth/IMG_20190305_160856.jpg',\n",
       " 'datacases/gd-2019/kaufland_cv/ground_truth/IMG_20190305_160905.jpg',\n",
       " 'datacases/gd-2019/kaufland_cv/ground_truth/IMG_20190305_160911.jpg',\n",
       " 'datacases/gd-2019/kaufland_cv/ground_truth/IMG_20190305_160914.jpg',\n",
       " 'datacases/gd-2019/kaufland_cv/ground_truth/IMG_20190305_160916.jpg',\n",
       " 'datacases/gd-2019/kaufland_cv/ground_truth/IMG_20190305_160921.jpg',\n",
       " 'datacases/gd-2019/kaufland_cv/ground_truth/IMG_20190305_160925.jpg',\n",
       " 'datacases/gd-2019/kaufland_cv/ground_truth/IMG_20190305_160938.jpg',\n",
       " 'datacases/gd-2019/kaufland_cv/ground_truth/IMG_20190305_160942.jpg',\n",
       " 'datacases/gd-2019/kaufland_cv/ground_truth/IMG_20190305_160946.jpg',\n",
       " 'datacases/gd-2019/kaufland_cv/ground_truth/IMG_20190305_160950.jpg',\n",
       " 'datacases/gd-2019/kaufland_cv/ground_truth/IMG_20190305_161001.jpg',\n",
       " 'datacases/gd-2019/kaufland_cv/ground_truth/IMG_20190305_161005.jpg',\n",
       " 'datacases/gd-2019/kaufland_cv/ground_truth/IMG_20190305_161011.jpg',\n",
       " 'datacases/gd-2019/kaufland_cv/ground_truth/IMG_20190305_161014.jpg',\n",
       " 'datacases/gd-2019/kaufland_cv/ground_truth/IMG_20190305_161018.jpg',\n",
       " 'datacases/gd-2019/kaufland_cv/ground_truth/IMG_20190305_161035.jpg',\n",
       " 'datacases/gd-2019/kaufland_cv/ground_truth/IMG_20190305_161038.jpg',\n",
       " 'datacases/gd-2019/kaufland_cv/ground_truth/IMG_20190305_161043.jpg',\n",
       " 'datacases/gd-2019/kaufland_cv/ground_truth/IMG_20190305_161048.jpg',\n",
       " 'datacases/gd-2019/kaufland_cv/ground_truth/IMG_20190305_161059.jpg',\n",
       " 'datacases/gd-2019/kaufland_cv/ground_truth/IMG_20190305_161103.jpg',\n",
       " 'datacases/gd-2019/kaufland_cv/ground_truth/IMG_20190305_161108.jpg',\n",
       " 'datacases/gd-2019/kaufland_cv/ground_truth/IMG_20190305_161115.jpg',\n",
       " 'datacases/gd-2019/kaufland_cv/ground_truth/IMG_20190305_161118.jpg',\n",
       " 'datacases/gd-2019/kaufland_cv/ground_truth/IMG_20190305_161123.jpg',\n",
       " 'datacases/gd-2019/kaufland_cv/ground_truth/IMG_20190305_165932.jpg',\n",
       " 'datacases/gd-2019/kaufland_cv/ground_truth/IMG_20190305_165937.jpg',\n",
       " 'datacases/gd-2019/kaufland_cv/ground_truth/IMG_20190305_165941.jpg',\n",
       " 'datacases/gd-2019/kaufland_cv/ground_truth/IMG_20190305_165944.jpg',\n",
       " 'datacases/gd-2019/kaufland_cv/ground_truth/IMG_20190305_165947.jpg',\n",
       " 'datacases/gd-2019/kaufland_cv/ground_truth/IMG_20190305_165951.jpg',\n",
       " 'datacases/gd-2019/kaufland_cv/ground_truth/IMG_20190305_165954.jpg',\n",
       " 'datacases/gd-2019/kaufland_cv/ground_truth/IMG_20190305_165958.jpg',\n",
       " 'datacases/gd-2019/kaufland_cv/ground_truth/IMG_20190305_170004.jpg',\n",
       " 'datacases/gd-2019/kaufland_cv/ground_truth/IMG_20190305_170008.jpg',\n",
       " 'datacases/gd-2019/kaufland_cv/ground_truth/IMG_20190305_170012.jpg',\n",
       " 'datacases/gd-2019/kaufland_cv/ground_truth/IMG_20190305_170016.jpg',\n",
       " 'datacases/gd-2019/kaufland_cv/ground_truth/IMG_20190305_170024.jpg',\n",
       " 'datacases/gd-2019/kaufland_cv/ground_truth/IMG_20190305_170028.jpg',\n",
       " 'datacases/gd-2019/kaufland_cv/ground_truth/IMG_20190305_170032.jpg',\n",
       " 'datacases/gd-2019/kaufland_cv/ground_truth/IMG_20190305_170035.jpg',\n",
       " 'datacases/gd-2019/kaufland_cv/ground_truth/IMG_20190305_170039.jpg',\n",
       " 'datacases/gd-2019/kaufland_cv/ground_truth/IMG_20190305_170042.jpg',\n",
       " 'datacases/gd-2019/kaufland_cv/ground_truth/IMG_20190305_170047.jpg',\n",
       " 'datacases/gd-2019/kaufland_cv/ground_truth/IMG_20190305_170050.jpg',\n",
       " 'datacases/gd-2019/kaufland_cv/ground_truth/IMG_20190305_170053.jpg',\n",
       " 'datacases/gd-2019/kaufland_cv/ground_truth/IMG_20190305_170055.jpg',\n",
       " 'datacases/gd-2019/kaufland_cv/ground_truth/IMG_20190305_170100.jpg',\n",
       " 'datacases/gd-2019/kaufland_cv/ground_truth/IMG_20190305_170104.jpg',\n",
       " 'datacases/gd-2019/kaufland_cv/ground_truth/IMG_20190305_170109.jpg',\n",
       " 'datacases/gd-2019/kaufland_cv/ground_truth/IMG_20190305_170116.jpg',\n",
       " 'datacases/gd-2019/kaufland_cv/ground_truth/IMG_20190305_170120.jpg',\n",
       " 'datacases/gd-2019/kaufland_cv/ground_truth/IMG_20190305_170123.jpg',\n",
       " 'datacases/gd-2019/kaufland_cv/ground_truth/IMG_20190305_170126.jpg',\n",
       " 'datacases/gd-2019/kaufland_cv/ground_truth/IMG_20190305_170129.jpg',\n",
       " 'datacases/gd-2019/kaufland_cv/ground_truth/IMG_20190305_170131.jpg',\n",
       " 'datacases/gd-2019/kaufland_cv/ground_truth/IMG_20190305_170135.jpg',\n",
       " 'datacases/gd-2019/kaufland_cv/ground_truth/IMG_20190305_170138.jpg',\n",
       " 'datacases/gd-2019/kaufland_cv/ground_truth/IMG_20190305_170142.jpg',\n",
       " 'datacases/gd-2019/kaufland_cv/ground_truth/IMG_20190305_170145.jpg',\n",
       " 'datacases/gd-2019/kaufland_cv/ground_truth/IMG_20190305_170149.jpg',\n",
       " 'datacases/gd-2019/kaufland_cv/ground_truth/IMG_20190305_170152.jpg',\n",
       " 'datacases/gd-2019/kaufland_cv/ground_truth/IMG_20190305_170158.jpg',\n",
       " 'datacases/gd-2019/kaufland_cv/ground_truth/IMG_20190305_170202.jpg',\n",
       " 'datacases/gd-2019/kaufland_cv/ground_truth/IMG_20190305_170206.jpg',\n",
       " 'datacases/gd-2019/kaufland_cv/ground_truth/IMG_20190305_170212.jpg',\n",
       " 'datacases/gd-2019/kaufland_cv/ground_truth/IMG_20190305_170215.jpg']"
      ]
     },
     "execution_count": 19,
     "metadata": {},
     "output_type": "execute_result"
    }
   ],
   "source": [
    "#fs.ls('datacases/datathon-2018-2/kaufland')\n",
    "fs.ls('datacases/gd-2019/kaufland_cv/ground_truth')"
   ]
  },
  {
   "cell_type": "markdown",
   "metadata": {},
   "source": [
    "**COPY FILES TO YOUR JUPYTER NOTEBOOK DIRECTORY (Not recommended)**"
   ]
  },
  {
   "cell_type": "code",
   "execution_count": 28,
   "metadata": {},
   "outputs": [],
   "source": [
    "#fs.get('datacases/datathon-2018-2/CASE-NAME/FILE-NAME.csv', 'local_FILE_NAME.zip')\n",
    "fs.get('datacases/gd-2019/kaufland_cv/Kaufland_DataThon 2019_04_participants.zip', 'darknet/data_train/local_FILE_NAME.zip')\n"
   ]
  },
  {
   "cell_type": "code",
   "execution_count": 29,
   "metadata": {},
   "outputs": [],
   "source": [
    "# extract zip files \n",
    "import zipfile\n",
    "zip_ref = zipfile.ZipFile(\"darknet/data_train/local_FILE_NAME.zip\", 'r')\n",
    "zip_ref.extractall(\"darknet/data_train/\")\n",
    "zip_ref.close()"
   ]
  },
  {
   "cell_type": "markdown",
   "metadata": {},
   "source": [
    "**OPEN CSV FILE AS PANDAS DATAFRAME**\n",
    "replace \"CASE-NAME\" with corresponding one from the list above ( kaufland, nsi, ontotext, telelink or telenor)\n",
    "replace \"FILE-NAME\" with corresponding one"
   ]
  },
  {
   "cell_type": "code",
   "execution_count": null,
   "metadata": {},
   "outputs": [],
   "source": [
    "import pandas\n",
    "with fs.open('datacases/datathon-2018-2/CASE-NAME/FILE-NAME.csv', 'rb') as f:\n",
    "    df = pandas.read_csv(f)  "
   ]
  },
  {
   "cell_type": "code",
   "execution_count": null,
   "metadata": {},
   "outputs": [],
   "source": [
    "import pandas"
   ]
  },
  {
   "cell_type": "markdown",
   "metadata": {},
   "source": [
    "**GUIDELINE HOW TO READ THE TELENOR DATA IN PANDAS DATAFRAME**"
   ]
  },
  {
   "cell_type": "code",
   "execution_count": null,
   "metadata": {},
   "outputs": [],
   "source": [
    "import zipfile\n",
    "fs.get('datacases/datathon-2018-2/CASE-NAME/FILE-NAME.csv', 'local_FILE_NAME.zip')\n",
    "zf = zipfile.ZipFile('data.zip') \n",
    "df = pandas.read_csv(zf.open('data.csv'))"
   ]
  },
  {
   "cell_type": "markdown",
   "metadata": {},
   "source": [
    "**LIST FILES IN THE DIR**"
   ]
  },
  {
   "cell_type": "code",
   "execution_count": null,
   "metadata": {},
   "outputs": [],
   "source": [
    "!ls"
   ]
  }
 ],
 "metadata": {
  "kernelspec": {
   "display_name": "Python 3",
   "language": "python",
   "name": "python3"
  },
  "language_info": {
   "codemirror_mode": {
    "name": "ipython",
    "version": 3
   },
   "file_extension": ".py",
   "mimetype": "text/x-python",
   "name": "python",
   "nbconvert_exporter": "python",
   "pygments_lexer": "ipython3",
   "version": "3.6.8"
  }
 },
 "nbformat": 4,
 "nbformat_minor": 2
}
